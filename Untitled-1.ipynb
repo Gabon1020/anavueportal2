{
 "cells": [
  {
   "cell_type": "code",
   "execution_count": 113,
   "metadata": {},
   "outputs": [
    {
     "name": "stdout",
     "output_type": "stream",
     "text": [
      "['01101000', '01100101', '01101100', '01101100', '01101111']\n",
      "[[0 0 0 0 0 0 0 0]\n",
      " [0 0 0 0 0 0 0 0]\n",
      " [0 0 0 0 0 0 0 0]\n",
      " [0 0 0 0 0 0 0 0]\n",
      " [0 0 0 0 0 0 0 0]]\n",
      "9\n",
      "[[0 1 1 0 0 1 0 1]\n",
      " [1 0 0 1 1 0 1 0]\n",
      " [0 0 0 1 1 1 0 1]\n",
      " [1 1 1 1 1 0 1 1]\n",
      " [1 0 1 1 1 0 0 1]\n",
      " [0 0 1 0 1 0 0 1]\n",
      " [1 0 1 0 1 1 1 1]\n",
      " [1 1 0 0 1 1 1 0]\n",
      " [1 0 1 0 1 0 0 0]]\n"
     ]
    },
    {
     "ename": "ValueError",
     "evalue": "invalid literal for int() with base 10: ''",
     "output_type": "error",
     "traceback": [
      "\u001b[1;31m---------------------------------------------------------------------------\u001b[0m",
      "\u001b[1;31mValueError\u001b[0m                                Traceback (most recent call last)",
      "Cell \u001b[1;32mIn[113], line 52\u001b[0m\n\u001b[0;32m     44\u001b[0m             empty_array [row][column] \u001b[38;5;241m=\u001b[39m matrix[row][column] \u001b[38;5;241m*\u001b[39m security_key[row][column]\n\u001b[0;32m     45\u001b[0m     \u001b[38;5;28;01mreturn\u001b[39;00m  array\n\u001b[1;32m---> 52\u001b[0m string_to_binary(plain_text)\n",
      "Cell \u001b[1;32mIn[113], line 44\u001b[0m, in \u001b[0;36mstring_to_binary\u001b[1;34m(input_string)\u001b[0m\n\u001b[0;32m     42\u001b[0m \u001b[38;5;28;01mfor\u001b[39;00m row \u001b[38;5;129;01min\u001b[39;00m \u001b[38;5;28mrange\u001b[39m(\u001b[38;5;28mlen\u001b[39m(matrix)):\n\u001b[0;32m     43\u001b[0m     \u001b[38;5;28;01mfor\u001b[39;00m column \u001b[38;5;129;01min\u001b[39;00m \u001b[38;5;28mrange\u001b[39m(\u001b[38;5;28mlen\u001b[39m(matrix[\u001b[38;5;241m0\u001b[39m])):\n\u001b[1;32m---> 44\u001b[0m         empty_array [row][column] \u001b[38;5;241m=\u001b[39m matrix[row][column] \u001b[38;5;241m*\u001b[39m security_key[row][column]\n\u001b[0;32m     45\u001b[0m \u001b[38;5;28;01mreturn\u001b[39;00m  array\n",
      "\u001b[1;31mValueError\u001b[0m: invalid literal for int() with base 10: ''"
     ]
    }
   ],
   "source": [
    "import numpy as np \n",
    "\n",
    "plain_text = input(\"please enter plaintext\")\n",
    "def string_to_binary(input_string):\n",
    "    var_1 = ' '.join(format(ord(char), '08b') for char in input_string)\n",
    "    var_1 = var_1.split()\n",
    "    print(var_1)\n",
    "    res = []\n",
    "    res_1 = []\n",
    "    matrix = []\n",
    "    for index, i in enumerate(var_1): \n",
    "        z = var_1[index]\n",
    "        w = list(z)\n",
    "        res.extend(w)\n",
    "    i = 0\n",
    "    while i < len(res):\n",
    "        if res[int(i)] == '0':\n",
    "            var_x = res[int(i)] = '1'\n",
    "            res_1.append(var_x)\n",
    "            i = i + 1\n",
    "        else:\n",
    "            var_y = res[int(i)] = '0'\n",
    "            res_1.append(var_y)\n",
    "            i = i + 1\n",
    "    #we are roasted \n",
    "    if len(res_1) > 8:\n",
    "        list_1 = res_1[0:8]\n",
    "        matrix.append(list_1)\n",
    "        number = (len(res))/8\n",
    "        while number > 1:\n",
    "            list_3 = res_1[int(((number-1)*8)):int((number*8))]\n",
    "            matrix.append(list_3)\n",
    "            number = number -1\n",
    "            # '01101000 01100101 01101100 01101100 01101111'\n",
    "    array = np.random.randint(1, size=((len(res_1)//8),8))\n",
    "    random = np.random.randint(5, 10)\n",
    "    security_key = np.random.randint(2, size=(random, 8))\n",
    "    empty_array = np.random.randint(1, size=((len(res_1)//8),8))\n",
    "    print(array)\n",
    "    print(random)\n",
    "    print (security_key)\n",
    "    for row in range(len(matrix)):\n",
    "        for column in range(len(matrix[0])):\n",
    "            empty_array [row][column] = matrix[row][column] * security_key[row][column]\n",
    "    return  array\n",
    "\n",
    "            \n",
    "            \n",
    "            \n",
    "            \n",
    "        \n",
    "string_to_binary(plain_text)\n"
   ]
  },
  {
   "cell_type": "code",
   "execution_count": 72,
   "metadata": {},
   "outputs": [
    {
     "name": "stdout",
     "output_type": "stream",
     "text": [
      "['01101000', '01100101', '01101100', '01101100', '01101111']\n",
      "['01101000', '01100101', '01101100', '01101100', '01101111', '0', '1', '1', '0', '0', '1', '0', '1']\n",
      "01101000\n",
      "01100101\n",
      "01101100\n",
      "01101100\n",
      "01101111\n"
     ]
    }
   ],
   "source": [
    "test = '01101000 01100101 01101100 01101100 01101111'\n",
    "test = test.split()\n",
    "print(test)\n",
    "z = test[1]\n",
    "w = list(z)\n",
    "print(test + w)\n",
    "for i in test:\n",
    "    x = str(i)\n",
    "    x = x.split()\n",
    "    for j in x:\n",
    "        print(j)\n",
    "\n",
    "\n"
   ]
  },
  {
   "cell_type": "code",
   "execution_count": 98,
   "metadata": {},
   "outputs": [
    {
     "name": "stdout",
     "output_type": "stream",
     "text": [
      "[[0 0 0 0 0 0 0 0]\n",
      " [0 0 0 0 0 0 0 0]\n",
      " [0 0 0 0 0 0 0 0]\n",
      " [0 0 0 0 0 0 0 0]\n",
      " [0 0 0 0 0 0 0 0]\n",
      " [0 0 0 0 0 0 0 0]\n",
      " [0 0 0 0 0 0 0 0]\n",
      " [0 0 0 0 0 0 0 0]]\n"
     ]
    }
   ],
   "source": [
    "import numpy as np\n",
    "\n",
    "array = np.random.randint(1, size=(8,8))\n",
    "print(array)"
   ]
  },
  {
   "cell_type": "code",
   "execution_count": 111,
   "metadata": {},
   "outputs": [
    {
     "data": {
      "text/plain": [
       "5"
      ]
     },
     "execution_count": 111,
     "metadata": {},
     "output_type": "execute_result"
    }
   ],
   "source": [
    "40//8"
   ]
  }
 ],
 "metadata": {
  "kernelspec": {
   "display_name": "base",
   "language": "python",
   "name": "python3"
  },
  "language_info": {
   "codemirror_mode": {
    "name": "ipython",
    "version": 3
   },
   "file_extension": ".py",
   "mimetype": "text/x-python",
   "name": "python",
   "nbconvert_exporter": "python",
   "pygments_lexer": "ipython3",
   "version": "3.11.7"
  }
 },
 "nbformat": 4,
 "nbformat_minor": 2
}
